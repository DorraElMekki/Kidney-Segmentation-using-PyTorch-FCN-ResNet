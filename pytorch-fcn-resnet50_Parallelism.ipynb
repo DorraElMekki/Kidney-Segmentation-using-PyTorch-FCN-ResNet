{
 "cells": [
  {
   "cell_type": "markdown",
   "metadata": {},
   "source": [
    "This code is inspired from the code available here: https://www.kaggle.com/leighplt/pytorch-fcn-resnet50"
   ]
  },
  {
   "cell_type": "markdown",
   "metadata": {},
   "source": [
    "# Import libraries"
   ]
  },
  {
   "cell_type": "code",
   "execution_count": 62,
   "metadata": {
    "ExecuteTime": {
     "end_time": "2021-03-24T01:01:02.105586Z",
     "start_time": "2021-03-24T01:01:02.098897Z"
    },
    "_cell_guid": "b1076dfc-b9ad-4769-8c92-a6c4dae69d19",
    "_uuid": "8f2839f25d086af736a60e9eeb907d3b93b6e0e5",
    "execution": {
     "iopub.execute_input": "2021-03-12T07:39:19.566515Z",
     "iopub.status.busy": "2021-03-12T07:39:19.565928Z",
     "iopub.status.idle": "2021-03-12T07:39:21.613072Z",
     "shell.execute_reply": "2021-03-12T07:39:21.612028Z"
    },
    "papermill": {
     "duration": 2.067457,
     "end_time": "2021-03-12T07:39:21.613187",
     "exception": false,
     "start_time": "2021-03-12T07:39:19.545730",
     "status": "completed"
    },
    "tags": []
   },
   "outputs": [],
   "source": [
    "import numpy as np\n",
    "import pandas as pd\n",
    "import pathlib, sys, os, random, time\n",
    "import numba, cv2, gc\n",
    "\n",
    "import seaborn as sn\n",
    "import matplotlib\n",
    "import matplotlib.pyplot as plt\n",
    "%matplotlib inline\n",
    "import statistics\n",
    "import warnings\n",
    "warnings.filterwarnings('ignore')\n",
    "\n",
    "from tqdm.notebook import tqdm\n",
    "\n",
    "import albumentations as A"
   ]
  },
  {
   "cell_type": "code",
   "execution_count": 63,
   "metadata": {
    "ExecuteTime": {
     "end_time": "2021-03-24T01:01:02.109672Z",
     "start_time": "2021-03-24T01:01:02.107282Z"
    },
    "execution": {
     "iopub.execute_input": "2021-03-12T07:39:21.641984Z",
     "iopub.status.busy": "2021-03-12T07:39:21.641273Z",
     "iopub.status.idle": "2021-03-12T07:39:21.892229Z",
     "shell.execute_reply": "2021-03-12T07:39:21.891731Z"
    },
    "papermill": {
     "duration": 0.266744,
     "end_time": "2021-03-12T07:39:21.892331",
     "exception": false,
     "start_time": "2021-03-12T07:39:21.625587",
     "status": "completed"
    },
    "tags": []
   },
   "outputs": [],
   "source": [
    "import rasterio\n",
    "from rasterio.windows import Window"
   ]
  },
  {
   "cell_type": "code",
   "execution_count": 64,
   "metadata": {
    "ExecuteTime": {
     "end_time": "2021-03-24T01:01:02.113543Z",
     "start_time": "2021-03-24T01:01:02.110884Z"
    },
    "execution": {
     "iopub.execute_input": "2021-03-12T07:39:21.921216Z",
     "iopub.status.busy": "2021-03-12T07:39:21.920623Z",
     "iopub.status.idle": "2021-03-12T07:39:23.232842Z",
     "shell.execute_reply": "2021-03-12T07:39:23.232294Z"
    },
    "papermill": {
     "duration": 1.328428,
     "end_time": "2021-03-12T07:39:23.232944",
     "exception": false,
     "start_time": "2021-03-12T07:39:21.904516",
     "status": "completed"
    },
    "tags": []
   },
   "outputs": [],
   "source": [
    "import torch\n",
    "import torch.nn as nn\n",
    "import torch.nn.functional as F\n",
    "import torch.utils.data as D\n",
    "\n",
    "import torchvision\n",
    "from torchvision import transforms as T"
   ]
  },
  {
   "cell_type": "markdown",
   "metadata": {},
   "source": [
    "# Configuration "
   ]
  },
  {
   "cell_type": "code",
   "execution_count": 65,
   "metadata": {
    "ExecuteTime": {
     "end_time": "2021-03-24T01:01:05.580665Z",
     "start_time": "2021-03-24T01:01:05.572137Z"
    },
    "_cell_guid": "79c7e3d0-c299-4dcb-8224-4455121ee9b0",
    "_uuid": "d629ff2d2480ee46fbb7e2d37f6b5fab8052498a",
    "execution": {
     "iopub.execute_input": "2021-03-12T07:39:23.263228Z",
     "iopub.status.busy": "2021-03-12T07:39:23.262664Z",
     "iopub.status.idle": "2021-03-12T07:39:23.269234Z",
     "shell.execute_reply": "2021-03-12T07:39:23.268675Z"
    },
    "papermill": {
     "duration": 0.024096,
     "end_time": "2021-03-12T07:39:23.269318",
     "exception": false,
     "start_time": "2021-03-12T07:39:23.245222",
     "status": "completed"
    },
    "tags": []
   },
   "outputs": [],
   "source": [
    "def set_seeds(seed=42):\n",
    "    random.seed(seed)\n",
    "    os.environ['PYTHONHASHSEED'] = str(seed)\n",
    "    np.random.seed(seed)\n",
    "    torch.manual_seed(seed)\n",
    "    torch.cuda.manual_seed(seed)\n",
    "    torch.cuda.manual_seed_all(seed)\n",
    "    torch.backends.cudnn.deterministic = True\n",
    "\n",
    "set_seeds();"
   ]
  },
  {
   "cell_type": "code",
   "execution_count": 66,
   "metadata": {
    "ExecuteTime": {
     "end_time": "2021-03-24T01:01:06.073206Z",
     "start_time": "2021-03-24T01:01:06.069466Z"
    },
    "execution": {
     "iopub.execute_input": "2021-03-12T07:39:23.657828Z",
     "iopub.status.busy": "2021-03-12T07:39:23.657100Z",
     "iopub.status.idle": "2021-03-12T07:39:23.661271Z",
     "shell.execute_reply": "2021-03-12T07:39:23.660361Z"
    },
    "papermill": {
     "duration": 0.371757,
     "end_time": "2021-03-12T07:39:23.661368",
     "exception": false,
     "start_time": "2021-03-12T07:39:23.289611",
     "status": "completed"
    },
    "tags": []
   },
   "outputs": [],
   "source": [
    "DATA_PATH = 'hubmap-kidney-segmentation/hubmap-kidney-segmentation_original'\n",
    "EPOCHES = 2\n",
    "BATCH_SIZE = 56\n",
    "DEVICE = 'cuda' if torch.cuda.is_available() else 'cpu' "
   ]
  },
  {
   "cell_type": "markdown",
   "metadata": {},
   "source": [
    "# UDF"
   ]
  },
  {
   "cell_type": "code",
   "execution_count": 67,
   "metadata": {
    "ExecuteTime": {
     "end_time": "2021-03-24T01:01:08.435946Z",
     "start_time": "2021-03-24T01:01:08.414256Z"
    },
    "execution": {
     "iopub.execute_input": "2021-03-12T07:39:23.710769Z",
     "iopub.status.busy": "2021-03-12T07:39:23.709041Z",
     "iopub.status.idle": "2021-03-12T07:39:23.711501Z",
     "shell.execute_reply": "2021-03-12T07:39:23.711938Z"
    },
    "papermill": {
     "duration": 0.037932,
     "end_time": "2021-03-12T07:39:23.712039",
     "exception": false,
     "start_time": "2021-03-12T07:39:23.674107",
     "status": "completed"
    },
    "tags": []
   },
   "outputs": [],
   "source": [
    "# used for converting the decoded image to rle mask\n",
    "def rle_encode(im):\n",
    "    '''\n",
    "    im: numpy array, 1 - mask, 0 - background\n",
    "    Returns run length as string formated\n",
    "    '''\n",
    "    pixels = im.flatten(order = 'F')\n",
    "    pixels = np.concatenate([[0], pixels, [0]])\n",
    "    runs = np.where(pixels[1:] != pixels[:-1])[0] + 1\n",
    "    runs[1::2] -= runs[::2]\n",
    "    return ' '.join(str(x) for x in runs)\n",
    "\n",
    "def rle_decode(mask_rle, shape=(256, 256)): \n",
    "    '''\n",
    "    mask_rle: run-length as string formated (start length)\n",
    "    shape: (height,width) of array to return \n",
    "    Returns numpy array, 1 - mask, 0 - background\n",
    "\n",
    "    '''\n",
    "    s = mask_rle.split()\n",
    "    starts, lengths = [np.asarray(x, dtype=int) for x in (s[0:][::2], s[1:][::2])]\n",
    "    starts -= 1\n",
    "    ends = starts + lengths\n",
    "    img = np.zeros(shape[0]*shape[1], dtype=np.uint8)\n",
    "    for lo, hi in zip(starts, ends):\n",
    "        img[lo:hi] = 1\n",
    "    return img.reshape(shape, order='F')\n",
    "\n",
    "@numba.njit()     # https://numba.pydata.org/numba-doc/latest/user/5minguide.html\n",
    "def rle_numba(pixels):\n",
    "    size = len(pixels)\n",
    "    points = []\n",
    "    if pixels[0] == 1:\n",
    "        flag = False\n",
    "        points.append(1)\n",
    "    else:\n",
    "        flag = True\n",
    "    for i in range(1, size):\n",
    "        if pixels[i] != pixels[i-1]:\n",
    "            if flag:\n",
    "                points.append(i+1)\n",
    "                flag = False\n",
    "            else:\n",
    "                points.append(i+1 - points[-1])\n",
    "                flag = True\n",
    "    if pixels[-1] == 1: points.append(size-points[-1]+1)    \n",
    "    return points\n",
    "\n",
    "def rle_numba_encode(image):\n",
    "    pixels = image.flatten(order = 'F')\n",
    "    points = rle_numba(pixels)\n",
    "    return ' '.join(str(x) for x in points)\n",
    "\n",
    "def make_grid(shape, window=256, min_overlap=32):\n",
    "    \"\"\"\n",
    "        Return Array of size (N,4), where N - number of tiles,\n",
    "        2nd axis represente slices: x1,x2,y1,y2 \n",
    "    \"\"\"\n",
    "    x, y = shape\n",
    "    nx = x // (window - min_overlap) + 1\n",
    "    x1 = np.linspace(0, x, num=nx, endpoint=False, dtype=np.int64)\n",
    "    x1[-1] = x - window\n",
    "    x2 = (x1 + window).clip(0, x)\n",
    "    ny = y // (window - min_overlap) + 1\n",
    "    y1 = np.linspace(0, y, num=ny, endpoint=False, dtype=np.int64)\n",
    "    y1[-1] = y - window\n",
    "    y2 = (y1 + window).clip(0, y)\n",
    "    slices = np.zeros((nx,ny, 4), dtype=np.int64)\n",
    "    \n",
    "    for i in range(nx):\n",
    "        for j in range(ny):\n",
    "            slices[i,j] = x1[i], x2[i], y1[j], y2[j]    \n",
    "    return slices.reshape(nx*ny,4)"
   ]
  },
  {
   "cell_type": "code",
   "execution_count": 68,
   "metadata": {
    "ExecuteTime": {
     "end_time": "2021-03-24T01:01:09.194684Z",
     "start_time": "2021-03-24T01:01:09.174327Z"
    },
    "execution": {
     "iopub.execute_input": "2021-03-12T07:39:23.757846Z",
     "iopub.status.busy": "2021-03-12T07:39:23.756006Z",
     "iopub.status.idle": "2021-03-12T07:39:23.758420Z",
     "shell.execute_reply": "2021-03-12T07:39:23.758839Z"
    },
    "papermill": {
     "duration": 0.034632,
     "end_time": "2021-03-12T07:39:23.758952",
     "exception": false,
     "start_time": "2021-03-12T07:39:23.724320",
     "status": "completed"
    },
    "tags": []
   },
   "outputs": [],
   "source": [
    "identity = rasterio.Affine(1, 0, 0, 0, 1, 0)\n",
    "\n",
    "class HubDataset(D.Dataset):\n",
    "\n",
    "    def __init__(self, root_dir, transform,\n",
    "                 window=256, overlap=64, threshold = 500):\n",
    "        self.path = pathlib.Path(root_dir)\n",
    "        self.overlap = overlap\n",
    "        self.window = window\n",
    "        self.transform = transform\n",
    "        self.csv = pd.read_csv((self.path / 'train.csv').as_posix(),\n",
    "                               index_col=[0])\n",
    "        self.threshold = threshold\n",
    "        self.build_slices()\n",
    "        self.len = len(self.slices)\n",
    "        self.as_tensor = T.Compose([\n",
    "            T.ToTensor(),\n",
    "            T.Normalize([0.625, 0.448, 0.688],\n",
    "                        [0.131, 0.177, 0.101]),\n",
    "        ])\n",
    "    def build_slices(self):\n",
    "        self.masks = []\n",
    "        self.files = []\n",
    "        self.slices = []\n",
    "        for i, filename in enumerate(self.csv.index.values):\n",
    "            filepath = (self.path /'train'/(filename+'.tiff')).as_posix()\n",
    "            self.files.append(filepath)\n",
    "            with rasterio.open(filepath, transform = identity) as dataset:\n",
    "                self.masks.append(rle_decode(\n",
    "                    self.csv.loc[filename, 'encoding'], dataset.shape))\n",
    "                slices = make_grid(dataset.shape, window=self.window,\n",
    "                                   min_overlap=self.overlap)\n",
    "                for slc in slices:\n",
    "                    x1,x2,y1,y2 = slc\n",
    "                    if self.masks[-1][x1:x2,y1:y2].sum() > self.threshold:\n",
    "                        self.slices.append([i,x1,x2,y1,y2])\n",
    "                        \n",
    "    # get data operation\n",
    "    def __getitem__(self, index):\n",
    "        \n",
    "        idx = self.slices[index][0]\n",
    "        filename = self.files[idx]\n",
    "        x1,x2,y1,y2 = self.slices[index][1:] \n",
    "        with rasterio.open(filename, transform = identity) as dataset:\n",
    "            channels = [1,2,3] if dataset.count == 3 else [1,1,1]\n",
    "            image = dataset.read(channels,window=Window.from_slices((x1,x2),(y1,y2)))    \n",
    "            image = np.moveaxis(image, 0, -1)\n",
    "            \n",
    "        mask = self.masks[idx][x1:x2,y1:y2]\n",
    "        \n",
    "        augments = self.transform(image=image, mask=mask)\n",
    "        return self.as_tensor(augments['image']), augments['mask'][None]\n",
    "    \n",
    "    def __len__(self):\n",
    "        \"\"\"\n",
    "        Total number of samples in the dataset\n",
    "        \"\"\"\n",
    "        return self.len"
   ]
  },
  {
   "cell_type": "markdown",
   "metadata": {},
   "source": [
    "# Data"
   ]
  },
  {
   "cell_type": "markdown",
   "metadata": {},
   "source": [
    "## Data Cleaning"
   ]
  },
  {
   "cell_type": "code",
   "execution_count": 69,
   "metadata": {
    "ExecuteTime": {
     "end_time": "2021-03-24T01:01:12.196772Z",
     "start_time": "2021-03-24T01:01:12.181291Z"
    }
   },
   "outputs": [
    {
     "data": {
      "text/plain": [
       "15"
      ]
     },
     "execution_count": 69,
     "metadata": {},
     "output_type": "execute_result"
    }
   ],
   "source": [
    "HuBMAP_DS_information = pd.read_csv(DATA_PATH+\"/HuBMAP-20-dataset_information.csv\") \n",
    "df_info=HuBMAP_DS_information\n",
    "df_info_idx= []\n",
    "list1=[\"57512b7f1.tiff\",\"3589adb90.tiff\",\"aa05346ff.tiff\",\"2ec3f1bb9.tiff\",\"d488c759a.tiff\"]\n",
    "for i in range(len(df_info)):\n",
    "    if df_info[\"image_file\"][i] in list1:\n",
    "        df_info_idx.append(i)\n",
    "df_info_idx\n",
    "df_info=df_info.drop(df_info.index[df_info_idx])\n",
    "len(df_info)"
   ]
  },
  {
   "cell_type": "markdown",
   "metadata": {},
   "source": [
    "## Data processing"
   ]
  },
  {
   "cell_type": "code",
   "execution_count": 84,
   "metadata": {
    "ExecuteTime": {
     "end_time": "2021-03-24T01:04:03.311682Z",
     "start_time": "2021-03-24T01:03:44.440362Z"
    },
    "execution": {
     "iopub.execute_input": "2021-03-12T07:39:23.793578Z",
     "iopub.status.busy": "2021-03-12T07:39:23.793042Z",
     "iopub.status.idle": "2021-03-12T07:39:50.612005Z",
     "shell.execute_reply": "2021-03-12T07:39:50.610886Z"
    },
    "papermill": {
     "duration": 26.84064,
     "end_time": "2021-03-12T07:39:50.612118",
     "exception": false,
     "start_time": "2021-03-12T07:39:23.771478",
     "status": "completed"
    },
    "tags": []
   },
   "outputs": [],
   "source": [
    "WINDOW=1024\n",
    "MIN_OVERLAP=32\n",
    "NEW_SIZE=256\n",
    "\n",
    "trfm = A.Compose([\n",
    "    A.Resize(250,500), #dorra\n",
    "    A.HorizontalFlip(p=0.5),\n",
    "    A.ColorJitter (brightness=0.07, contrast=0.07,\n",
    "                   saturation=0.1, hue=0.1, always_apply=False, p=0.3)\n",
    "])\n",
    "\n",
    "ds = HubDataset(DATA_PATH, window=WINDOW, overlap=MIN_OVERLAP, transform=trfm)"
   ]
  },
  {
   "cell_type": "markdown",
   "metadata": {},
   "source": [
    "## Split train, validation and test"
   ]
  },
  {
   "cell_type": "code",
   "execution_count": 85,
   "metadata": {
    "ExecuteTime": {
     "end_time": "2021-03-24T01:04:03.321021Z",
     "start_time": "2021-03-24T01:04:03.313507Z"
    }
   },
   "outputs": [
    {
     "name": "stdout",
     "output_type": "stream",
     "text": [
      "train_size:  3255 \n",
      "validation_size:  349 \n",
      "test_size:  417\n"
     ]
    }
   ],
   "source": [
    "valid_idx, train_idx, test_idx = [], [], []\n",
    "for i in range(len(ds)):\n",
    "    if ds.slices[i][0] == 4 :\n",
    "        valid_idx.append(i)\n",
    "    else:\n",
    "        if ds.slices[i][0] == 8:\n",
    "            test_idx.append(i)\n",
    "        else:\n",
    "            train_idx.append(i)\n",
    "            \n",
    "train_ds = D.Subset(ds, train_idx)\n",
    "valid_ds = D.Subset(ds, valid_idx)\n",
    "test_ds = D.Subset(ds, test_idx)\n",
    "print(\"train_size: \",len(train_idx), \"\\nvalidation_size: \",len(valid_idx),\"\\ntest_size: \",len(test_idx) )"
   ]
  },
  {
   "cell_type": "code",
   "execution_count": 86,
   "metadata": {
    "ExecuteTime": {
     "end_time": "2021-03-24T01:04:03.409107Z",
     "start_time": "2021-03-24T01:04:03.322453Z"
    },
    "execution": {
     "iopub.execute_input": "2021-03-12T07:39:51.718119Z",
     "iopub.status.busy": "2021-03-12T07:39:51.717449Z",
     "iopub.status.idle": "2021-03-12T07:39:51.720515Z",
     "shell.execute_reply": "2021-03-12T07:39:51.720937Z"
    },
    "papermill": {
     "duration": 0.030301,
     "end_time": "2021-03-12T07:39:51.721041",
     "exception": false,
     "start_time": "2021-03-12T07:39:51.690740",
     "status": "completed"
    },
    "tags": []
   },
   "outputs": [
    {
     "data": {
      "image/png": "[encoded data removed]",
      "text/plain": [
       "<Figure size 432x288 with 1 Axes>"
      ]
     },
     "metadata": {},
     "output_type": "display_data"
    }
   ],
   "source": [
    "# Pie chart\n",
    "labels = ['train', 'validation','test']\n",
    "sizes = [len(train_idx), len(valid_idx),  len(test_idx)]\n",
    "#colors\n",
    "colors = ['#99ff99' ,'#ffcc99', '#ff9999','#66b3ff']\n",
    " \n",
    "fig1, ax1 = plt.subplots()\n",
    "ax1.pie(sizes, colors = colors, labels=labels, autopct='%1.1f%%', startangle=90,textprops={'fontsize': 13})\n",
    "#draw circle\n",
    "centre_circle = plt.Circle((0,0),0.5,fc='white')\n",
    "fig = plt.gcf()\n",
    "fig.gca().add_artist(centre_circle)\n",
    "# Equal aspect ratio ensures that pie is drawn as a circle\n",
    "ax1.axis('equal')  \n",
    "plt.tight_layout()\n",
    "plt.show()"
   ]
  },
  {
   "cell_type": "code",
   "execution_count": 87,
   "metadata": {
    "ExecuteTime": {
     "end_time": "2021-03-24T01:04:03.575854Z",
     "start_time": "2021-03-24T01:04:03.410368Z"
    }
   },
   "outputs": [],
   "source": [
    "# define training and validation data loaders\n",
    "loader = D.DataLoader(\n",
    "    train_ds, batch_size=BATCH_SIZE, shuffle=True, num_workers=0)\n",
    "vloader = D.DataLoader(\n",
    "    valid_ds, batch_size=BATCH_SIZE, shuffle=False, num_workers=0)\n",
    "tloader = D.DataLoader(\n",
    "    test_ds, batch_size=BATCH_SIZE, shuffle=False, num_workers=0)"
   ]
  },
  {
   "cell_type": "markdown",
   "metadata": {},
   "source": [
    "## Input data visualization"
   ]
  },
  {
   "cell_type": "code",
   "execution_count": 88,
   "metadata": {
    "ExecuteTime": {
     "end_time": "2021-03-24T01:04:03.594358Z",
     "start_time": "2021-03-24T01:04:03.577517Z"
    }
   },
   "outputs": [
    {
     "data": {
      "text/html": [
       "<div>\n",
       "<style scoped>\n",
       "    .dataframe tbody tr th:only-of-type {\n",
       "        vertical-align: middle;\n",
       "    }\n",
       "\n",
       "    .dataframe tbody tr th {\n",
       "        vertical-align: top;\n",
       "    }\n",
       "\n",
       "    .dataframe thead th {\n",
       "        text-align: right;\n",
       "    }\n",
       "</style>\n",
       "<table border=\"1\" class=\"dataframe\">\n",
       "  <thead>\n",
       "    <tr style=\"text-align: right;\">\n",
       "      <th></th>\n",
       "      <th>image_file</th>\n",
       "      <th>width_pixels</th>\n",
       "      <th>height_pixels</th>\n",
       "      <th>anatomical_structures_segmention_file</th>\n",
       "      <th>glomerulus_segmentation_file</th>\n",
       "      <th>patient_number</th>\n",
       "      <th>race</th>\n",
       "      <th>ethnicity</th>\n",
       "      <th>sex</th>\n",
       "      <th>age</th>\n",
       "      <th>weight_kilograms</th>\n",
       "      <th>height_centimeters</th>\n",
       "      <th>bmi_kg/m^2</th>\n",
       "      <th>laterality</th>\n",
       "      <th>percent_cortex</th>\n",
       "      <th>percent_medulla</th>\n",
       "    </tr>\n",
       "  </thead>\n",
       "  <tbody>\n",
       "    <tr>\n",
       "      <th>1</th>\n",
       "      <td>afa5e8098.tiff</td>\n",
       "      <td>43780</td>\n",
       "      <td>36800</td>\n",
       "      <td>afa5e8098-anatomical-structure.json</td>\n",
       "      <td>afa5e8098.json</td>\n",
       "      <td>67347</td>\n",
       "      <td>White</td>\n",
       "      <td>Not Hispanic or Latino</td>\n",
       "      <td>Female</td>\n",
       "      <td>58</td>\n",
       "      <td>59.0</td>\n",
       "      <td>160.0</td>\n",
       "      <td>23.0</td>\n",
       "      <td>Right</td>\n",
       "      <td>55</td>\n",
       "      <td>45</td>\n",
       "    </tr>\n",
       "    <tr>\n",
       "      <th>2</th>\n",
       "      <td>54f2eec69.tiff</td>\n",
       "      <td>22240</td>\n",
       "      <td>30440</td>\n",
       "      <td>54f2eec69-anatomical-structure.json</td>\n",
       "      <td>54f2eec69.json</td>\n",
       "      <td>67548</td>\n",
       "      <td>Black or African American</td>\n",
       "      <td>Not Hispanic or Latino</td>\n",
       "      <td>Male</td>\n",
       "      <td>58</td>\n",
       "      <td>79.9</td>\n",
       "      <td>190.5</td>\n",
       "      <td>22.0</td>\n",
       "      <td>Right</td>\n",
       "      <td>75</td>\n",
       "      <td>25</td>\n",
       "    </tr>\n",
       "    <tr>\n",
       "      <th>4</th>\n",
       "      <td>1e2425f28.tiff</td>\n",
       "      <td>32220</td>\n",
       "      <td>26780</td>\n",
       "      <td>1e2425f28-anatomical-structure.json</td>\n",
       "      <td>1e2425f28.json</td>\n",
       "      <td>63921</td>\n",
       "      <td>White</td>\n",
       "      <td>Not Hispanic or Latino</td>\n",
       "      <td>Male</td>\n",
       "      <td>48</td>\n",
       "      <td>131.5</td>\n",
       "      <td>193.0</td>\n",
       "      <td>35.3</td>\n",
       "      <td>Right</td>\n",
       "      <td>65</td>\n",
       "      <td>35</td>\n",
       "    </tr>\n",
       "    <tr>\n",
       "      <th>5</th>\n",
       "      <td>e79de561c.tiff</td>\n",
       "      <td>27020</td>\n",
       "      <td>16180</td>\n",
       "      <td>e79de561c-anatomical-structure.json</td>\n",
       "      <td>e79de561c.json</td>\n",
       "      <td>67026</td>\n",
       "      <td>Black or African American</td>\n",
       "      <td>Not Hispanic or Latino</td>\n",
       "      <td>Male</td>\n",
       "      <td>53</td>\n",
       "      <td>73.0</td>\n",
       "      <td>166.0</td>\n",
       "      <td>26.5</td>\n",
       "      <td>Left</td>\n",
       "      <td>55</td>\n",
       "      <td>45</td>\n",
       "    </tr>\n",
       "    <tr>\n",
       "      <th>6</th>\n",
       "      <td>c68fe75ea.tiff</td>\n",
       "      <td>49780</td>\n",
       "      <td>26840</td>\n",
       "      <td>c68fe75ea-anatomical-structure.json</td>\n",
       "      <td>c68fe75ea.json</td>\n",
       "      <td>67112</td>\n",
       "      <td>White</td>\n",
       "      <td>Not Hispanic or Latino</td>\n",
       "      <td>Male</td>\n",
       "      <td>56</td>\n",
       "      <td>91.2</td>\n",
       "      <td>167.6</td>\n",
       "      <td>32.5</td>\n",
       "      <td>Left</td>\n",
       "      <td>80</td>\n",
       "      <td>20</td>\n",
       "    </tr>\n",
       "    <tr>\n",
       "      <th>7</th>\n",
       "      <td>095bf7a1f.tiff</td>\n",
       "      <td>39000</td>\n",
       "      <td>38160</td>\n",
       "      <td>095bf7a1f-anatomical-structure.json</td>\n",
       "      <td>095bf7a1f.json</td>\n",
       "      <td>68250</td>\n",
       "      <td>White</td>\n",
       "      <td>Not Hispanic or Latino</td>\n",
       "      <td>Female</td>\n",
       "      <td>44</td>\n",
       "      <td>71.7</td>\n",
       "      <td>160.0</td>\n",
       "      <td>28.0</td>\n",
       "      <td>Right</td>\n",
       "      <td>65</td>\n",
       "      <td>35</td>\n",
       "    </tr>\n",
       "    <tr>\n",
       "      <th>8</th>\n",
       "      <td>26dc41664.tiff</td>\n",
       "      <td>42360</td>\n",
       "      <td>38160</td>\n",
       "      <td>26dc41664-anatomical-structure.json</td>\n",
       "      <td>26dc41664.json</td>\n",
       "      <td>68304</td>\n",
       "      <td>White</td>\n",
       "      <td>Not Hispanic or Latino</td>\n",
       "      <td>Female</td>\n",
       "      <td>66</td>\n",
       "      <td>71.3</td>\n",
       "      <td>167.6</td>\n",
       "      <td>25.4</td>\n",
       "      <td>Left</td>\n",
       "      <td>55</td>\n",
       "      <td>45</td>\n",
       "    </tr>\n",
       "    <tr>\n",
       "      <th>10</th>\n",
       "      <td>4ef6695ce.tiff</td>\n",
       "      <td>50680</td>\n",
       "      <td>39960</td>\n",
       "      <td>4ef6695ce-anatomical-structure.json</td>\n",
       "      <td>4ef6695ce.json</td>\n",
       "      <td>66999</td>\n",
       "      <td>White</td>\n",
       "      <td>Not Hispanic or Latino</td>\n",
       "      <td>Male</td>\n",
       "      <td>56</td>\n",
       "      <td>91.4</td>\n",
       "      <td>181.6</td>\n",
       "      <td>27.7</td>\n",
       "      <td>Right</td>\n",
       "      <td>65</td>\n",
       "      <td>35</td>\n",
       "    </tr>\n",
       "    <tr>\n",
       "      <th>11</th>\n",
       "      <td>aaa6a05cc.tiff</td>\n",
       "      <td>13013</td>\n",
       "      <td>18484</td>\n",
       "      <td>aaa6a05cc-anatomical-structure.json</td>\n",
       "      <td>aaa6a05cc.json</td>\n",
       "      <td>65631</td>\n",
       "      <td>White</td>\n",
       "      <td>Not Hispanic or Latino</td>\n",
       "      <td>Female</td>\n",
       "      <td>73</td>\n",
       "      <td>NaN</td>\n",
       "      <td>NaN</td>\n",
       "      <td>NaN</td>\n",
       "      <td>Left</td>\n",
       "      <td>75</td>\n",
       "      <td>25</td>\n",
       "    </tr>\n",
       "    <tr>\n",
       "      <th>12</th>\n",
       "      <td>b9a3865fc.tiff</td>\n",
       "      <td>40429</td>\n",
       "      <td>31295</td>\n",
       "      <td>b9a3865fc-anatomical-structure.json</td>\n",
       "      <td>b9a3865fc.json</td>\n",
       "      <td>67347</td>\n",
       "      <td>White</td>\n",
       "      <td>Not Hispanic or Latino</td>\n",
       "      <td>Female</td>\n",
       "      <td>58</td>\n",
       "      <td>59.0</td>\n",
       "      <td>160.0</td>\n",
       "      <td>23.0</td>\n",
       "      <td>Right</td>\n",
       "      <td>55</td>\n",
       "      <td>45</td>\n",
       "    </tr>\n",
       "    <tr>\n",
       "      <th>13</th>\n",
       "      <td>cb2d976f4.tiff</td>\n",
       "      <td>49548</td>\n",
       "      <td>34940</td>\n",
       "      <td>cb2d976f4-anatomical-structure.json</td>\n",
       "      <td>cb2d976f4.json</td>\n",
       "      <td>67548</td>\n",
       "      <td>Black or African American</td>\n",
       "      <td>Not Hispanic or Latino</td>\n",
       "      <td>Male</td>\n",
       "      <td>58</td>\n",
       "      <td>79.9</td>\n",
       "      <td>190.5</td>\n",
       "      <td>22.0</td>\n",
       "      <td>Right</td>\n",
       "      <td>75</td>\n",
       "      <td>25</td>\n",
       "    </tr>\n",
       "    <tr>\n",
       "      <th>14</th>\n",
       "      <td>b2dc8411c.tiff</td>\n",
       "      <td>31262</td>\n",
       "      <td>14844</td>\n",
       "      <td>b2dc8411c-anatomical-structure.json</td>\n",
       "      <td>b2dc8411c.json</td>\n",
       "      <td>67026</td>\n",
       "      <td>Black or African American</td>\n",
       "      <td>Not Hispanic or Latino</td>\n",
       "      <td>Male</td>\n",
       "      <td>53</td>\n",
       "      <td>73.0</td>\n",
       "      <td>166.0</td>\n",
       "      <td>26.5</td>\n",
       "      <td>Left</td>\n",
       "      <td>55</td>\n",
       "      <td>45</td>\n",
       "    </tr>\n",
       "    <tr>\n",
       "      <th>16</th>\n",
       "      <td>0486052bb.tiff</td>\n",
       "      <td>34937</td>\n",
       "      <td>25784</td>\n",
       "      <td>0486052bb-anatomical-structure.json</td>\n",
       "      <td>0486052bb.json</td>\n",
       "      <td>67177</td>\n",
       "      <td>White</td>\n",
       "      <td>Not Hispanic or Latino</td>\n",
       "      <td>Male</td>\n",
       "      <td>31</td>\n",
       "      <td>106.1</td>\n",
       "      <td>180.3</td>\n",
       "      <td>32.6</td>\n",
       "      <td>Right</td>\n",
       "      <td>80</td>\n",
       "      <td>20</td>\n",
       "    </tr>\n",
       "    <tr>\n",
       "      <th>18</th>\n",
       "      <td>2f6ecfcdf.tiff</td>\n",
       "      <td>25794</td>\n",
       "      <td>31278</td>\n",
       "      <td>2f6ecfcdf-anatomical-structure.json</td>\n",
       "      <td>2f6ecfcdf.json</td>\n",
       "      <td>68555</td>\n",
       "      <td>White</td>\n",
       "      <td>Not Hispanic or Latino</td>\n",
       "      <td>Female</td>\n",
       "      <td>76</td>\n",
       "      <td>93.0</td>\n",
       "      <td>157.4</td>\n",
       "      <td>37.5</td>\n",
       "      <td>Left</td>\n",
       "      <td>80</td>\n",
       "      <td>20</td>\n",
       "    </tr>\n",
       "    <tr>\n",
       "      <th>19</th>\n",
       "      <td>8242609fa.tiff</td>\n",
       "      <td>44066</td>\n",
       "      <td>31299</td>\n",
       "      <td>8242609fa-anatomical-structure.json</td>\n",
       "      <td>8242609fa.json</td>\n",
       "      <td>66999</td>\n",
       "      <td>White</td>\n",
       "      <td>Not Hispanic or Latino</td>\n",
       "      <td>Male</td>\n",
       "      <td>56</td>\n",
       "      <td>91.4</td>\n",
       "      <td>181.6</td>\n",
       "      <td>27.7</td>\n",
       "      <td>Right</td>\n",
       "      <td>65</td>\n",
       "      <td>35</td>\n",
       "    </tr>\n",
       "  </tbody>\n",
       "</table>\n",
       "</div>"
      ],
      "text/plain": [
       "        image_file  width_pixels  height_pixels  \\\n",
       "1   afa5e8098.tiff         43780          36800   \n",
       "2   54f2eec69.tiff         22240          30440   \n",
       "4   1e2425f28.tiff         32220          26780   \n",
       "5   e79de561c.tiff         27020          16180   \n",
       "6   c68fe75ea.tiff         49780          26840   \n",
       "7   095bf7a1f.tiff         39000          38160   \n",
       "8   26dc41664.tiff         42360          38160   \n",
       "10  4ef6695ce.tiff         50680          39960   \n",
       "11  aaa6a05cc.tiff         13013          18484   \n",
       "12  b9a3865fc.tiff         40429          31295   \n",
       "13  cb2d976f4.tiff         49548          34940   \n",
       "14  b2dc8411c.tiff         31262          14844   \n",
       "16  0486052bb.tiff         34937          25784   \n",
       "18  2f6ecfcdf.tiff         25794          31278   \n",
       "19  8242609fa.tiff         44066          31299   \n",
       "\n",
       "   anatomical_structures_segmention_file glomerulus_segmentation_file  \\\n",
       "1    afa5e8098-anatomical-structure.json               afa5e8098.json   \n",
       "2    54f2eec69-anatomical-structure.json               54f2eec69.json   \n",
       "4    1e2425f28-anatomical-structure.json               1e2425f28.json   \n",
       "5    e79de561c-anatomical-structure.json               e79de561c.json   \n",
       "6    c68fe75ea-anatomical-structure.json               c68fe75ea.json   \n",
       "7    095bf7a1f-anatomical-structure.json               095bf7a1f.json   \n",
       "8    26dc41664-anatomical-structure.json               26dc41664.json   \n",
       "10   4ef6695ce-anatomical-structure.json               4ef6695ce.json   \n",
       "11   aaa6a05cc-anatomical-structure.json               aaa6a05cc.json   \n",
       "12   b9a3865fc-anatomical-structure.json               b9a3865fc.json   \n",
       "13   cb2d976f4-anatomical-structure.json               cb2d976f4.json   \n",
       "14   b2dc8411c-anatomical-structure.json               b2dc8411c.json   \n",
       "16   0486052bb-anatomical-structure.json               0486052bb.json   \n",
       "18   2f6ecfcdf-anatomical-structure.json               2f6ecfcdf.json   \n",
       "19   8242609fa-anatomical-structure.json               8242609fa.json   \n",
       "\n",
       "    patient_number                       race               ethnicity     sex  \\\n",
       "1            67347                      White  Not Hispanic or Latino  Female   \n",
       "2            67548  Black or African American  Not Hispanic or Latino    Male   \n",
       "4            63921                      White  Not Hispanic or Latino    Male   \n",
       "5            67026  Black or African American  Not Hispanic or Latino    Male   \n",
       "6            67112                      White  Not Hispanic or Latino    Male   \n",
       "7            68250                      White  Not Hispanic or Latino  Female   \n",
       "8            68304                      White  Not Hispanic or Latino  Female   \n",
       "10           66999                      White  Not Hispanic or Latino    Male   \n",
       "11           65631                      White  Not Hispanic or Latino  Female   \n",
       "12           67347                      White  Not Hispanic or Latino  Female   \n",
       "13           67548  Black or African American  Not Hispanic or Latino    Male   \n",
       "14           67026  Black or African American  Not Hispanic or Latino    Male   \n",
       "16           67177                      White  Not Hispanic or Latino    Male   \n",
       "18           68555                      White  Not Hispanic or Latino  Female   \n",
       "19           66999                      White  Not Hispanic or Latino    Male   \n",
       "\n",
       "    age  weight_kilograms  height_centimeters  bmi_kg/m^2 laterality  \\\n",
       "1    58              59.0               160.0        23.0      Right   \n",
       "2    58              79.9               190.5        22.0      Right   \n",
       "4    48             131.5               193.0        35.3      Right   \n",
       "5    53              73.0               166.0        26.5       Left   \n",
       "6    56              91.2               167.6        32.5       Left   \n",
       "7    44              71.7               160.0        28.0      Right   \n",
       "8    66              71.3               167.6        25.4       Left   \n",
       "10   56              91.4               181.6        27.7      Right   \n",
       "11   73               NaN                 NaN         NaN       Left   \n",
       "12   58              59.0               160.0        23.0      Right   \n",
       "13   58              79.9               190.5        22.0      Right   \n",
       "14   53              73.0               166.0        26.5       Left   \n",
       "16   31             106.1               180.3        32.6      Right   \n",
       "18   76              93.0               157.4        37.5       Left   \n",
       "19   56              91.4               181.6        27.7      Right   \n",
       "\n",
       "    percent_cortex  percent_medulla  \n",
       "1               55               45  \n",
       "2               75               25  \n",
       "4               65               35  \n",
       "5               55               45  \n",
       "6               80               20  \n",
       "7               65               35  \n",
       "8               55               45  \n",
       "10              65               35  \n",
       "11              75               25  \n",
       "12              55               45  \n",
       "13              75               25  \n",
       "14              55               45  \n",
       "16              80               20  \n",
       "18              80               20  \n",
       "19              65               35  "
      ]
     },
     "execution_count": 88,
     "metadata": {},
     "output_type": "execute_result"
    }
   ],
   "source": [
    "df_info"
   ]
  },
  {
   "cell_type": "code",
   "execution_count": 89,
   "metadata": {
    "ExecuteTime": {
     "end_time": "2021-03-24T01:04:03.805914Z",
     "start_time": "2021-03-24T01:04:03.595628Z"
    }
   },
   "outputs": [
    {
     "data": {
      "text/plain": [
       "<AxesSubplot:xlabel='weight_kilograms', ylabel='Count'>"
      ]
     },
     "execution_count": 89,
     "metadata": {},
     "output_type": "execute_result"
    },
    {
     "data": {
      "image/png": "[encoded data removed]",
      "text/plain": [
       "<Figure size 576x288 with 2 Axes>"
      ]
     },
     "metadata": {
      "needs_background": "light"
     },
     "output_type": "display_data"
    }
   ],
   "source": [
    "\n",
    "plt.figure(figsize=(8, 4))\n",
    "plt.subplot(1, 2, 1)\n",
    "sn.histplot(x=\"age\", data=df_info)\n",
    "plt.subplot(1, 2, 2)\n",
    "sn.histplot(x=\"weight_kilograms\", data=df_info)"
   ]
  },
  {
   "cell_type": "markdown",
   "metadata": {},
   "source": [
    "# Model "
   ]
  },
  {
   "cell_type": "code",
   "execution_count": 18,
   "metadata": {
    "ExecuteTime": {
     "end_time": "2021-03-23T21:46:23.921360Z",
     "start_time": "2021-03-23T21:46:23.918668Z"
    },
    "execution": {
     "iopub.execute_input": "2021-03-12T07:39:51.819648Z",
     "iopub.status.busy": "2021-03-12T07:39:51.819011Z",
     "iopub.status.idle": "2021-03-12T07:39:51.822000Z",
     "shell.execute_reply": "2021-03-12T07:39:51.821564Z"
    },
    "papermill": {
     "duration": 0.029016,
     "end_time": "2021-03-12T07:39:51.822080",
     "exception": false,
     "start_time": "2021-03-12T07:39:51.793064",
     "status": "completed"
    },
    "tags": []
   },
   "outputs": [],
   "source": [
    "def get_model():\n",
    "    model = torchvision.models.segmentation.fcn_resnet50(True)\n",
    "    model.classifier[4] = nn.Conv2d(512, 1, kernel_size=(1, 1), stride=(1, 1))\n",
    "    model.aux_classifier[4] = nn.Conv2d(256, 1, kernel_size=(1, 1), stride=(1, 1))\n",
    "    return model"
   ]
  },
  {
   "cell_type": "code",
   "execution_count": 19,
   "metadata": {
    "ExecuteTime": {
     "end_time": "2021-03-23T21:46:27.571622Z",
     "start_time": "2021-03-23T21:46:23.922507Z"
    },
    "execution": {
     "iopub.execute_input": "2021-03-12T07:40:00.719289Z",
     "iopub.status.busy": "2021-03-12T07:40:00.718620Z",
     "iopub.status.idle": "2021-03-12T07:40:05.315208Z",
     "shell.execute_reply": "2021-03-12T07:40:05.314194Z"
    },
    "papermill": {
     "duration": 4.628323,
     "end_time": "2021-03-12T07:40:05.315325",
     "exception": false,
     "start_time": "2021-03-12T07:40:00.687002",
     "status": "completed"
    },
    "tags": []
   },
   "outputs": [
    {
     "name": "stdout",
     "output_type": "stream",
     "text": [
      "Let's use 8 GPUs!\n"
     ]
    }
   ],
   "source": [
    "model = get_model()\n",
    "if torch.cuda.device_count() > 1:\n",
    "    print(\"Let's use\", torch.cuda.device_count(), \"GPUs!\")\n",
    "model = nn.DataParallel(model)\n",
    "model.to(DEVICE);\n",
    "optimizer = torch.optim.AdamW(model.parameters(),\n",
    "                  lr=1e-4, weight_decay=1e-3)"
   ]
  },
  {
   "cell_type": "code",
   "execution_count": 20,
   "metadata": {
    "ExecuteTime": {
     "end_time": "2021-03-23T21:46:27.578298Z",
     "start_time": "2021-03-23T21:46:27.573238Z"
    }
   },
   "outputs": [
    {
     "data": {
      "text/plain": [
       "DataParallel(\n",
       "  (module): FCN(\n",
       "    (backbone): IntermediateLayerGetter(\n",
       "      (conv1): Conv2d(3, 64, kernel_size=(7, 7), stride=(2, 2), padding=(3, 3), bias=False)\n",
       "      (bn1): BatchNorm2d(64, eps=1e-05, momentum=0.1, affine=True, track_running_stats=True)\n",
       "      (relu): ReLU(inplace=True)\n",
       "      (maxpool): MaxPool2d(kernel_size=3, stride=2, padding=1, dilation=1, ceil_mode=False)\n",
       "      (layer1): Sequential(\n",
       "        (0): Bottleneck(\n",
       "          (conv1): Conv2d(64, 64, kernel_size=(1, 1), stride=(1, 1), bias=False)\n",
       "          (bn1): BatchNorm2d(64, eps=1e-05, momentum=0.1, affine=True, track_running_stats=True)\n",
       "          (conv2): Conv2d(64, 64, kernel_size=(3, 3), stride=(1, 1), padding=(1, 1), bias=False)\n",
       "          (bn2): BatchNorm2d(64, eps=1e-05, momentum=0.1, affine=True, track_running_stats=True)\n",
       "          (conv3): Conv2d(64, 256, kernel_size=(1, 1), stride=(1, 1), bias=False)\n",
       "          (bn3): BatchNorm2d(256, eps=1e-05, momentum=0.1, affine=True, track_running_stats=True)\n",
       "          (relu): ReLU(inplace=True)\n",
       "          (downsample): Sequential(\n",
       "            (0): Conv2d(64, 256, kernel_size=(1, 1), stride=(1, 1), bias=False)\n",
       "            (1): BatchNorm2d(256, eps=1e-05, momentum=0.1, affine=True, track_running_stats=True)\n",
       "          )\n",
       "        )\n",
       "        (1): Bottleneck(\n",
       "          (conv1): Conv2d(256, 64, kernel_size=(1, 1), stride=(1, 1), bias=False)\n",
       "          (bn1): BatchNorm2d(64, eps=1e-05, momentum=0.1, affine=True, track_running_stats=True)\n",
       "          (conv2): Conv2d(64, 64, kernel_size=(3, 3), stride=(1, 1), padding=(1, 1), bias=False)\n",
       "          (bn2): BatchNorm2d(64, eps=1e-05, momentum=0.1, affine=True, track_running_stats=True)\n",
       "          (conv3): Conv2d(64, 256, kernel_size=(1, 1), stride=(1, 1), bias=False)\n",
       "          (bn3): BatchNorm2d(256, eps=1e-05, momentum=0.1, affine=True, track_running_stats=True)\n",
       "          (relu): ReLU(inplace=True)\n",
       "        )\n",
       "        (2): Bottleneck(\n",
       "          (conv1): Conv2d(256, 64, kernel_size=(1, 1), stride=(1, 1), bias=False)\n",
       "          (bn1): BatchNorm2d(64, eps=1e-05, momentum=0.1, affine=True, track_running_stats=True)\n",
       "          (conv2): Conv2d(64, 64, kernel_size=(3, 3), stride=(1, 1), padding=(1, 1), bias=False)\n",
       "          (bn2): BatchNorm2d(64, eps=1e-05, momentum=0.1, affine=True, track_running_stats=True)\n",
       "          (conv3): Conv2d(64, 256, kernel_size=(1, 1), stride=(1, 1), bias=False)\n",
       "          (bn3): BatchNorm2d(256, eps=1e-05, momentum=0.1, affine=True, track_running_stats=True)\n",
       "          (relu): ReLU(inplace=True)\n",
       "        )\n",
       "      )\n",
       "      (layer2): Sequential(\n",
       "        (0): Bottleneck(\n",
       "          (conv1): Conv2d(256, 128, kernel_size=(1, 1), stride=(1, 1), bias=False)\n",
       "          (bn1): BatchNorm2d(128, eps=1e-05, momentum=0.1, affine=True, track_running_stats=True)\n",
       "          (conv2): Conv2d(128, 128, kernel_size=(3, 3), stride=(2, 2), padding=(1, 1), bias=False)\n",
       "          (bn2): BatchNorm2d(128, eps=1e-05, momentum=0.1, affine=True, track_running_stats=True)\n",
       "          (conv3): Conv2d(128, 512, kernel_size=(1, 1), stride=(1, 1), bias=False)\n",
       "          (bn3): BatchNorm2d(512, eps=1e-05, momentum=0.1, affine=True, track_running_stats=True)\n",
       "          (relu): ReLU(inplace=True)\n",
       "          (downsample): Sequential(\n",
       "            (0): Conv2d(256, 512, kernel_size=(1, 1), stride=(2, 2), bias=False)\n",
       "            (1): BatchNorm2d(512, eps=1e-05, momentum=0.1, affine=True, track_running_stats=True)\n",
       "          )\n",
       "        )\n",
       "        (1): Bottleneck(\n",
       "          (conv1): Conv2d(512, 128, kernel_size=(1, 1), stride=(1, 1), bias=False)\n",
       "          (bn1): BatchNorm2d(128, eps=1e-05, momentum=0.1, affine=True, track_running_stats=True)\n",
       "          (conv2): Conv2d(128, 128, kernel_size=(3, 3), stride=(1, 1), padding=(1, 1), bias=False)\n",
       "          (bn2): BatchNorm2d(128, eps=1e-05, momentum=0.1, affine=True, track_running_stats=True)\n",
       "          (conv3): Conv2d(128, 512, kernel_size=(1, 1), stride=(1, 1), bias=False)\n",
       "          (bn3): BatchNorm2d(512, eps=1e-05, momentum=0.1, affine=True, track_running_stats=True)\n",
       "          (relu): ReLU(inplace=True)\n",
       "        )\n",
       "        (2): Bottleneck(\n",
       "          (conv1): Conv2d(512, 128, kernel_size=(1, 1), stride=(1, 1), bias=False)\n",
       "          (bn1): BatchNorm2d(128, eps=1e-05, momentum=0.1, affine=True, track_running_stats=True)\n",
       "          (conv2): Conv2d(128, 128, kernel_size=(3, 3), stride=(1, 1), padding=(1, 1), bias=False)\n",
       "          (bn2): BatchNorm2d(128, eps=1e-05, momentum=0.1, affine=True, track_running_stats=True)\n",
       "          (conv3): Conv2d(128, 512, kernel_size=(1, 1), stride=(1, 1), bias=False)\n",
       "          (bn3): BatchNorm2d(512, eps=1e-05, momentum=0.1, affine=True, track_running_stats=True)\n",
       "          (relu): ReLU(inplace=True)\n",
       "        )\n",
       "        (3): Bottleneck(\n",
       "          (conv1): Conv2d(512, 128, kernel_size=(1, 1), stride=(1, 1), bias=False)\n",
       "          (bn1): BatchNorm2d(128, eps=1e-05, momentum=0.1, affine=True, track_running_stats=True)\n",
       "          (conv2): Conv2d(128, 128, kernel_size=(3, 3), stride=(1, 1), padding=(1, 1), bias=False)\n",
       "          (bn2): BatchNorm2d(128, eps=1e-05, momentum=0.1, affine=True, track_running_stats=True)\n",
       "          (conv3): Conv2d(128, 512, kernel_size=(1, 1), stride=(1, 1), bias=False)\n",
       "          (bn3): BatchNorm2d(512, eps=1e-05, momentum=0.1, affine=True, track_running_stats=True)\n",
       "          (relu): ReLU(inplace=True)\n",
       "        )\n",
       "      )\n",
       "      (layer3): Sequential(\n",
       "        (0): Bottleneck(\n",
       "          (conv1): Conv2d(512, 256, kernel_size=(1, 1), stride=(1, 1), bias=False)\n",
       "          (bn1): BatchNorm2d(256, eps=1e-05, momentum=0.1, affine=True, track_running_stats=True)\n",
       "          (conv2): Conv2d(256, 256, kernel_size=(3, 3), stride=(1, 1), padding=(1, 1), bias=False)\n",
       "          (bn2): BatchNorm2d(256, eps=1e-05, momentum=0.1, affine=True, track_running_stats=True)\n",
       "          (conv3): Conv2d(256, 1024, kernel_size=(1, 1), stride=(1, 1), bias=False)\n",
       "          (bn3): BatchNorm2d(1024, eps=1e-05, momentum=0.1, affine=True, track_running_stats=True)\n",
       "          (relu): ReLU(inplace=True)\n",
       "          (downsample): Sequential(\n",
       "            (0): Conv2d(512, 1024, kernel_size=(1, 1), stride=(1, 1), bias=False)\n",
       "            (1): BatchNorm2d(1024, eps=1e-05, momentum=0.1, affine=True, track_running_stats=True)\n",
       "          )\n",
       "        )\n",
       "        (1): Bottleneck(\n",
       "          (conv1): Conv2d(1024, 256, kernel_size=(1, 1), stride=(1, 1), bias=False)\n",
       "          (bn1): BatchNorm2d(256, eps=1e-05, momentum=0.1, affine=True, track_running_stats=True)\n",
       "          (conv2): Conv2d(256, 256, kernel_size=(3, 3), stride=(1, 1), padding=(2, 2), dilation=(2, 2), bias=False)\n",
       "          (bn2): BatchNorm2d(256, eps=1e-05, momentum=0.1, affine=True, track_running_stats=True)\n",
       "          (conv3): Conv2d(256, 1024, kernel_size=(1, 1), stride=(1, 1), bias=False)\n",
       "          (bn3): BatchNorm2d(1024, eps=1e-05, momentum=0.1, affine=True, track_running_stats=True)\n",
       "          (relu): ReLU(inplace=True)\n",
       "        )\n",
       "        (2): Bottleneck(\n",
       "          (conv1): Conv2d(1024, 256, kernel_size=(1, 1), stride=(1, 1), bias=False)\n",
       "          (bn1): BatchNorm2d(256, eps=1e-05, momentum=0.1, affine=True, track_running_stats=True)\n",
       "          (conv2): Conv2d(256, 256, kernel_size=(3, 3), stride=(1, 1), padding=(2, 2), dilation=(2, 2), bias=False)\n",
       "          (bn2): BatchNorm2d(256, eps=1e-05, momentum=0.1, affine=True, track_running_stats=True)\n",
       "          (conv3): Conv2d(256, 1024, kernel_size=(1, 1), stride=(1, 1), bias=False)\n",
       "          (bn3): BatchNorm2d(1024, eps=1e-05, momentum=0.1, affine=True, track_running_stats=True)\n",
       "          (relu): ReLU(inplace=True)\n",
       "        )\n",
       "        (3): Bottleneck(\n",
       "          (conv1): Conv2d(1024, 256, kernel_size=(1, 1), stride=(1, 1), bias=False)\n",
       "          (bn1): BatchNorm2d(256, eps=1e-05, momentum=0.1, affine=True, track_running_stats=True)\n",
       "          (conv2): Conv2d(256, 256, kernel_size=(3, 3), stride=(1, 1), padding=(2, 2), dilation=(2, 2), bias=False)\n",
       "          (bn2): BatchNorm2d(256, eps=1e-05, momentum=0.1, affine=True, track_running_stats=True)\n",
       "          (conv3): Conv2d(256, 1024, kernel_size=(1, 1), stride=(1, 1), bias=False)\n",
       "          (bn3): BatchNorm2d(1024, eps=1e-05, momentum=0.1, affine=True, track_running_stats=True)\n",
       "          (relu): ReLU(inplace=True)\n",
       "        )\n",
       "        (4): Bottleneck(\n",
       "          (conv1): Conv2d(1024, 256, kernel_size=(1, 1), stride=(1, 1), bias=False)\n",
       "          (bn1): BatchNorm2d(256, eps=1e-05, momentum=0.1, affine=True, track_running_stats=True)\n",
       "          (conv2): Conv2d(256, 256, kernel_size=(3, 3), stride=(1, 1), padding=(2, 2), dilation=(2, 2), bias=False)\n",
       "          (bn2): BatchNorm2d(256, eps=1e-05, momentum=0.1, affine=True, track_running_stats=True)\n",
       "          (conv3): Conv2d(256, 1024, kernel_size=(1, 1), stride=(1, 1), bias=False)\n",
       "          (bn3): BatchNorm2d(1024, eps=1e-05, momentum=0.1, affine=True, track_running_stats=True)\n",
       "          (relu): ReLU(inplace=True)\n",
       "        )\n",
       "        (5): Bottleneck(\n",
       "          (conv1): Conv2d(1024, 256, kernel_size=(1, 1), stride=(1, 1), bias=False)\n",
       "          (bn1): BatchNorm2d(256, eps=1e-05, momentum=0.1, affine=True, track_running_stats=True)\n",
       "          (conv2): Conv2d(256, 256, kernel_size=(3, 3), stride=(1, 1), padding=(2, 2), dilation=(2, 2), bias=False)\n",
       "          (bn2): BatchNorm2d(256, eps=1e-05, momentum=0.1, affine=True, track_running_stats=True)\n",
       "          (conv3): Conv2d(256, 1024, kernel_size=(1, 1), stride=(1, 1), bias=False)\n",
       "          (bn3): BatchNorm2d(1024, eps=1e-05, momentum=0.1, affine=True, track_running_stats=True)\n",
       "          (relu): ReLU(inplace=True)\n",
       "        )\n",
       "      )\n",
       "      (layer4): Sequential(\n",
       "        (0): Bottleneck(\n",
       "          (conv1): Conv2d(1024, 512, kernel_size=(1, 1), stride=(1, 1), bias=False)\n",
       "          (bn1): BatchNorm2d(512, eps=1e-05, momentum=0.1, affine=True, track_running_stats=True)\n",
       "          (conv2): Conv2d(512, 512, kernel_size=(3, 3), stride=(1, 1), padding=(2, 2), dilation=(2, 2), bias=False)\n",
       "          (bn2): BatchNorm2d(512, eps=1e-05, momentum=0.1, affine=True, track_running_stats=True)\n",
       "          (conv3): Conv2d(512, 2048, kernel_size=(1, 1), stride=(1, 1), bias=False)\n",
       "          (bn3): BatchNorm2d(2048, eps=1e-05, momentum=0.1, affine=True, track_running_stats=True)\n",
       "          (relu): ReLU(inplace=True)\n",
       "          (downsample): Sequential(\n",
       "            (0): Conv2d(1024, 2048, kernel_size=(1, 1), stride=(1, 1), bias=False)\n",
       "            (1): BatchNorm2d(2048, eps=1e-05, momentum=0.1, affine=True, track_running_stats=True)\n",
       "          )\n",
       "        )\n",
       "        (1): Bottleneck(\n",
       "          (conv1): Conv2d(2048, 512, kernel_size=(1, 1), stride=(1, 1), bias=False)\n",
       "          (bn1): BatchNorm2d(512, eps=1e-05, momentum=0.1, affine=True, track_running_stats=True)\n",
       "          (conv2): Conv2d(512, 512, kernel_size=(3, 3), stride=(1, 1), padding=(4, 4), dilation=(4, 4), bias=False)\n",
       "          (bn2): BatchNorm2d(512, eps=1e-05, momentum=0.1, affine=True, track_running_stats=True)\n",
       "          (conv3): Conv2d(512, 2048, kernel_size=(1, 1), stride=(1, 1), bias=False)\n",
       "          (bn3): BatchNorm2d(2048, eps=1e-05, momentum=0.1, affine=True, track_running_stats=True)\n",
       "          (relu): ReLU(inplace=True)\n",
       "        )\n",
       "        (2): Bottleneck(\n",
       "          (conv1): Conv2d(2048, 512, kernel_size=(1, 1), stride=(1, 1), bias=False)\n",
       "          (bn1): BatchNorm2d(512, eps=1e-05, momentum=0.1, affine=True, track_running_stats=True)\n",
       "          (conv2): Conv2d(512, 512, kernel_size=(3, 3), stride=(1, 1), padding=(4, 4), dilation=(4, 4), bias=False)\n",
       "          (bn2): BatchNorm2d(512, eps=1e-05, momentum=0.1, affine=True, track_running_stats=True)\n",
       "          (conv3): Conv2d(512, 2048, kernel_size=(1, 1), stride=(1, 1), bias=False)\n",
       "          (bn3): BatchNorm2d(2048, eps=1e-05, momentum=0.1, affine=True, track_running_stats=True)\n",
       "          (relu): ReLU(inplace=True)\n",
       "        )\n",
       "      )\n",
       "    )\n",
       "    (classifier): FCNHead(\n",
       "      (0): Conv2d(2048, 512, kernel_size=(3, 3), stride=(1, 1), padding=(1, 1), bias=False)\n",
       "      (1): BatchNorm2d(512, eps=1e-05, momentum=0.1, affine=True, track_running_stats=True)\n",
       "      (2): ReLU()\n",
       "      (3): Dropout(p=0.1, inplace=False)\n",
       "      (4): Conv2d(512, 1, kernel_size=(1, 1), stride=(1, 1))\n",
       "    )\n",
       "    (aux_classifier): FCNHead(\n",
       "      (0): Conv2d(1024, 256, kernel_size=(3, 3), stride=(1, 1), padding=(1, 1), bias=False)\n",
       "      (1): BatchNorm2d(256, eps=1e-05, momentum=0.1, affine=True, track_running_stats=True)\n",
       "      (2): ReLU()\n",
       "      (3): Dropout(p=0.1, inplace=False)\n",
       "      (4): Conv2d(256, 1, kernel_size=(1, 1), stride=(1, 1))\n",
       "    )\n",
       "  )\n",
       ")"
      ]
     },
     "execution_count": 20,
     "metadata": {},
     "output_type": "execute_result"
    }
   ],
   "source": [
    "model"
   ]
  },
  {
   "cell_type": "code",
   "execution_count": 21,
   "metadata": {
    "ExecuteTime": {
     "end_time": "2021-03-23T21:46:27.583696Z",
     "start_time": "2021-03-23T21:46:27.579819Z"
    },
    "execution": {
     "iopub.execute_input": "2021-03-12T07:39:51.871214Z",
     "iopub.status.busy": "2021-03-12T07:39:51.870655Z",
     "iopub.status.idle": "2021-03-12T07:39:51.874031Z",
     "shell.execute_reply": "2021-03-12T07:39:51.873587Z"
    },
    "papermill": {
     "duration": 0.031187,
     "end_time": "2021-03-12T07:39:51.874114",
     "exception": false,
     "start_time": "2021-03-12T07:39:51.842927",
     "status": "completed"
    },
    "tags": []
   },
   "outputs": [],
   "source": [
    "@torch.no_grad()\n",
    "def validation(model, loader, loss_fn):\n",
    "    losses = []\n",
    "    dice_values = []\n",
    "\n",
    "    model.eval()\n",
    "    for image, target in loader:\n",
    "        image, target = image.to(DEVICE), target.float().to(DEVICE)\n",
    "        output = model(image)['out']\n",
    "        loss = loss_fn(output, target)\n",
    "        dice =1- dice_fn(output.sigmoid(), target)\n",
    "        losses.append(loss.item())\n",
    "        dice_values.append(dice.item())\n",
    "        \n",
    "    return np.array(losses).mean(),np.array(dice_values).mean()"
   ]
  },
  {
   "cell_type": "code",
   "execution_count": 22,
   "metadata": {
    "ExecuteTime": {
     "end_time": "2021-03-23T21:46:27.589095Z",
     "start_time": "2021-03-23T21:46:27.584866Z"
    },
    "execution": {
     "iopub.execute_input": "2021-03-12T07:40:05.418402Z",
     "iopub.status.busy": "2021-03-12T07:40:05.417662Z",
     "iopub.status.idle": "2021-03-12T07:40:05.420755Z",
     "shell.execute_reply": "2021-03-12T07:40:05.420324Z"
    },
    "papermill": {
     "duration": 0.032608,
     "end_time": "2021-03-12T07:40:05.420843",
     "exception": false,
     "start_time": "2021-03-12T07:40:05.388235",
     "status": "completed"
    },
    "tags": []
   },
   "outputs": [],
   "source": [
    "class SoftDiceLoss(nn.Module):\n",
    "    def __init__(self, smooth=1., dims=(-2,-1)):\n",
    "\n",
    "        super(SoftDiceLoss, self).__init__()\n",
    "        self.smooth = smooth\n",
    "        self.dims = dims\n",
    "    \n",
    "    def forward(self, x, y):\n",
    "\n",
    "        tp = (x * y).sum(self.dims)\n",
    "        fp = (x * (1 - y)).sum(self.dims)\n",
    "        fn = ((1 - x) * y).sum(self.dims)\n",
    "        \n",
    "        dc = (2 * tp + self.smooth) / (2 * tp + fp + fn + self.smooth)\n",
    "        dc = dc.mean()\n",
    "\n",
    "        return 1 - dc"
   ]
  },
  {
   "cell_type": "code",
   "execution_count": 23,
   "metadata": {
    "ExecuteTime": {
     "end_time": "2021-03-23T21:46:27.594640Z",
     "start_time": "2021-03-23T21:46:27.591916Z"
    }
   },
   "outputs": [],
   "source": [
    "bce_fn = nn.BCEWithLogitsLoss()\n",
    "dice_fn = SoftDiceLoss()\n",
    "\n",
    "def loss_fn(y_pred, y_true):\n",
    "    bce = bce_fn(y_pred, y_true)\n",
    "    dice = dice_fn(y_pred.sigmoid(), y_true)\n",
    "    return 0.8*bce+ 0.2*dice"
   ]
  },
  {
   "cell_type": "markdown",
   "metadata": {},
   "source": [
    "## train model"
   ]
  },
  {
   "cell_type": "code",
   "execution_count": 24,
   "metadata": {
    "ExecuteTime": {
     "end_time": "2021-03-23T21:46:27.598514Z",
     "start_time": "2021-03-23T21:46:27.596198Z"
    },
    "execution": {
     "iopub.execute_input": "2021-03-12T07:40:05.364291Z",
     "iopub.status.busy": "2021-03-12T07:40:05.363499Z",
     "iopub.status.idle": "2021-03-12T07:40:05.366386Z",
     "shell.execute_reply": "2021-03-12T07:40:05.365861Z"
    },
    "papermill": {
     "duration": 0.029064,
     "end_time": "2021-03-12T07:40:05.366495",
     "exception": false,
     "start_time": "2021-03-12T07:40:05.337431",
     "status": "completed"
    },
    "tags": []
   },
   "outputs": [],
   "source": [
    "### Table for results\n",
    "header = r'''\n",
    "        Train         | Valid\n",
    "Epoch |  Loss |  dice |  Loss |  dice | Time, m\n",
    "'''\n",
    "#          Epoch         metrics            time\n",
    "raw_line = '{:6d}' + '\\u2502{:7.3f}'*4 + '\\u2502{:6.2f}'"
   ]
  },
  {
   "cell_type": "code",
   "execution_count": 25,
   "metadata": {
    "ExecuteTime": {
     "end_time": "2021-03-23T21:59:09.454112Z",
     "start_time": "2021-03-23T21:46:27.599788Z"
    },
    "execution": {
     "iopub.execute_input": "2021-03-12T07:40:05.478284Z",
     "iopub.status.busy": "2021-03-12T07:40:05.477734Z",
     "iopub.status.idle": "2021-03-12T08:32:11.089405Z",
     "shell.execute_reply": "2021-03-12T08:32:11.089889Z"
    },
    "papermill": {
     "duration": 3125.647064,
     "end_time": "2021-03-12T08:32:11.090023",
     "exception": false,
     "start_time": "2021-03-12T07:40:05.442959",
     "status": "completed"
    },
    "scrolled": false,
    "tags": []
   },
   "outputs": [
    {
     "name": "stdout",
     "output_type": "stream",
     "text": [
      "\n",
      "        Train         | Valid\n",
      "Epoch |  Loss |  dice |  Loss |  dice | Time, m\n",
      "\n",
      "     1│  0.341│  0.353│  0.246│  0.435│  7.06\n",
      "     2│  0.217│  0.467│  0.198│  0.520│  5.63\n"
     ]
    }
   ],
   "source": [
    "print(header)\n",
    "epoches=[]\n",
    "TrainLoss=[]\n",
    "TrainDice=[]\n",
    "ValidLoss=[]\n",
    "ValidDice=[]\n",
    "TrainLossMedian=[]\n",
    "TrainDiceMedian=[]\n",
    "times=[]\n",
    "\n",
    "for epoch in range(1, EPOCHES+1):\n",
    "    losses = []\n",
    "    dice_values=[]\n",
    "  \n",
    "    start_time = time.time()\n",
    "    model.train()\n",
    "    for image, target in loader:\n",
    "        i=0\n",
    "        image, target = image.to(DEVICE), target.float().to(DEVICE)\n",
    "        optimizer.zero_grad()\n",
    "        model_output = model(image)\n",
    "        output = model(image)['out']\n",
    "        loss = loss_fn(output, target)\n",
    "        dice = 1- dice_fn(output.sigmoid(), target)\n",
    "\n",
    "        loss.backward()\n",
    "        optimizer.step()\n",
    "        losses.append(loss.item())\n",
    "        dice_values.append(dice.item())\n",
    "        \n",
    "    vloss,vdice= validation(model, vloader, loss_fn)\n",
    "    print(raw_line.format(epoch, np.array(losses).mean(),np.array(dice_values).mean(), vloss,vdice,\n",
    "                              (time.time()-start_time)/60**1))    \n",
    "    epoches.append(epoch)\n",
    "    TrainLoss.append(np.array(losses).mean())\n",
    "    TrainDice.append(np.array(dice_values).mean())\n",
    "    TrainLossMedian.append(statistics.median(np.array(losses)))\n",
    "    TrainDiceMedian.append(statistics.median(np.array(dice_values)))\n",
    "    ValidLoss.append(vloss)\n",
    "    ValidDice.append(vdice)\n",
    "    times.append((time.time()-start_time)/60**1)\n",
    "\n",
    "    losses = []\n",
    "    dice_values= []"
   ]
  }
 ],
 "metadata": {
  "kernelspec": {
   "display_name": "Python 3",
   "language": "python",
   "name": "python3"
  },
  "language_info": {
   "codemirror_mode": {
    "name": "ipython",
    "version": 3
   },
   "file_extension": ".py",
   "mimetype": "text/x-python",
   "name": "python",
   "nbconvert_exporter": "python",
   "pygments_lexer": "ipython3",
   "version": "3.8.5"
  },
  "latex_envs": {
   "LaTeX_envs_menu_present": true,
   "autoclose": false,
   "autocomplete": true,
   "bibliofile": "biblio.bib",
   "cite_by": "apalike",
   "current_citInitial": 1,
   "eqLabelWithNumbers": true,
   "eqNumInitial": 1,
   "hotkeys": {
    "equation": "Ctrl-E",
    "itemize": "Ctrl-I"
   },
   "labels_anchors": false,
   "latex_user_defs": false,
   "report_style_numbering": false,
   "user_envs_cfg": false
  },
  "papermill": {
   "duration": 3687.764619,
   "end_time": "2021-03-12T08:40:43.310721",
   "environment_variables": {},
   "exception": null,
   "input_path": "__notebook__.ipynb",
   "output_path": "__notebook__.ipynb",
   "parameters": {},
   "start_time": "2021-03-12T07:39:15.546102",
   "version": "2.1.0"
  },
  "toc": {
   "base_numbering": 1,
   "nav_menu": {},
   "number_sections": true,
   "sideBar": true,
   "skip_h1_title": false,
   "title_cell": "Table of Contents",
   "title_sidebar": "Contents",
   "toc_cell": false,
   "toc_position": {
    "height": "calc(100% - 180px)",
    "left": "10px",
    "top": "150px",
    "width": "165px"
   },
   "toc_section_display": true,
   "toc_window_display": true
  }
 },
 "nbformat": 4,
 "nbformat_minor": 4
}
